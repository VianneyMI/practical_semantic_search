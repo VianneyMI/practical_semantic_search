{
 "cells": [
  {
   "cell_type": "code",
   "execution_count": 1,
   "metadata": {},
   "outputs": [],
   "source": [
    "import os\n",
    "\n",
    "#import pandas as pd\n",
    "import numpy as np\n",
    "\n",
    "from openai import OpenAI\n",
    "from pymongo import MongoClient\n",
    "from monggregate import Pipeline"
   ]
  },
  {
   "cell_type": "code",
   "execution_count": 10,
   "metadata": {},
   "outputs": [],
   "source": [
    "openai_client = OpenAI(\n",
    "    api_key=os.environ[\"OPENAI_API_KEY\"],\n",
    ")\n",
    "\n",
    "model_name = \"text-embedding-3-large\"\n",
    "max_dimensions = 2048\n",
    "\n",
    "def _get_embedding(text:str, model:str=model_name):\n",
    "   text = text.replace(\"\\n\", \" \")\n",
    "   return openai_client.embeddings.create(input = [text], model=model, dimensions=max_dimensions).data[0]\n",
    "\n",
    "def get_embedding(text:str, model_name:str=model_name):\n",
    "    try:\n",
    "        return _get_embedding(text, model_name).embedding\n",
    "    except Exception as e:\n",
    "        print(e)\n",
    "        return np.nan"
   ]
  },
  {
   "cell_type": "code",
   "execution_count": 11,
   "metadata": {},
   "outputs": [],
   "source": [
    "mongo_client = MongoClient(os.environ[\"MONGODB_URI\"])\n",
    "db = mongo_client[\"spotify\"]\n",
    "collection = db[\"samples\"]"
   ]
  },
  {
   "cell_type": "code",
   "execution_count": 12,
   "metadata": {},
   "outputs": [],
   "source": [
    "indexes = [\"lyrics_semantics_euclidean\",\"lyrics_semantics_cosine\", \"lyrics_semantics_dot_product\"]\n",
    "def find_songs(text:str, limit:int=5, index:str = \"lyrics_semantics_euclidean\")->list[dict]:\n",
    "\n",
    "    pipeline = Pipeline()\n",
    "    pipeline.vector_search(\n",
    "        index=index,\n",
    "        path=\"embedding\",\n",
    "        query_vector=get_embedding(text),\n",
    "        limit=limit,\n",
    "        num_candidates=100\n",
    "        ).project(\n",
    "            projection=\n",
    "            {\n",
    "                \"_id\": 0, \n",
    "                #\"text\": 1, \n",
    "                \"artist\": 1, \n",
    "                \"title\": 1,\n",
    "                \"theme\": 1,\n",
    "                \"score\":{ \n",
    "                    \"$meta\": \"vectorSearchScore\" \n",
    "                    }\n",
    "            }\n",
    "        ).sort(\n",
    "            descending=\"score\"\n",
    "        )\n",
    "\n",
    "    return list(collection.aggregate(pipeline.export()))"
   ]
  },
  {
   "cell_type": "code",
   "execution_count": 13,
   "metadata": {},
   "outputs": [],
   "source": [
    "def print_results(results:list[dict]):\n",
    "    for result in results:\n",
    "        print(f\"{result['artist']}: {result['title']} - Score: {result['score']} - Theme: {result['theme']}\")\n",
    "        # print(\"---------------------\")\n",
    "        # print(result[\"text\"])\n",
    "        # print(\"=====================\")"
   ]
  },
  {
   "cell_type": "code",
   "execution_count": 14,
   "metadata": {},
   "outputs": [],
   "source": [
    "themes_prompts_map ={\n",
    "    \"Overcoming adversity\":\"The protagonist faces a seemingly insurmountable challenge but finds the strength to persevere, ultimately achieving a sense of triumph or personal growth.\",\n",
    "    \"Lost love and longing\":\"The heartache and lingering emotions of a lost love, conveying a sense of nostalgia, yearning, and bittersweet acceptance\",\n",
    "    \"Unconventional love\":\"Celebrates love that defies societal expectations or challenges traditional norms, highlighting the power of acceptance and embracing differences.\",\n",
    "    \"Celebrating life's simple joys\":\"Pure happiness and appreciation for the beauty and wonder of everyday life, highlighting the simple moments that bring joy and fulfillment.\",\n",
    "    \"Finding Hope in Unexpected Places\":\"Comfort and solace in the face of despair, highlighting the unexpected sources of hope and strength that can emerge even in difficult times\",\n",
    "    \"The Beauty and Pain of Vulnerability\":\"Emotional complexities of vulnerability, exploring themes of opening oneself up to love, loss, and connection, despite the potential for pain.\",\n",
    "    \"The Enduring Power of Love and Connection\":\"The enduring power of love and connection, exploring themes of friendship, romantic love, familial bonds, and the human yearning for belonging.\",\n",
    "    \"Hustle and Ambition\":\"The relentless drive and ambition often found in urban communities, where overcoming challenges and achieving success are major motivators. Overcoming hardships, chasing dreams, and building empires from the ground up.\",\n",
    "    \"Vulnerability and Emotional Honesty\":\"Heartbreak, self-doubt, mental health struggles, and finding strength in raw honesty\",\n",
    "    \"Finding Joy and Celebration in Life's Moments\":\"Positivity, and joy, living life to the fullest, finding happiness in the simple things, and celebrating community and personal achievements.\"\n",
    "}"
   ]
  },
  {
   "cell_type": "code",
   "execution_count": 18,
   "metadata": {},
   "outputs": [
    {
     "name": "stdout",
     "output_type": "stream",
     "text": [
      "Theme: Overcoming adversity\n",
      "---------------------\n",
      "Eminem: Lose Yourself - Score: 0.6477552056312561 - Theme: Overcoming adversity\n",
      "Coldplay: Fix You - Score: 0.6138159036636353 - Theme: Finding Hope in Unexpected Places\n",
      "Gloria Gaynor: I Will Survive - Score: 0.6045676469802856 - Theme: Overcoming adversity\n",
      "=====================\n",
      "Theme: Lost love and longing\n",
      "---------------------\n",
      "Taylor Swift: All Too Well - Score: 0.7166137099266052 - Theme: The Beauty and Pain of Vulnerability\n",
      "Adele: Someone Like You - Score: 0.715863049030304 - Theme: Lost love and longing\n",
      "Whitney Houston: I Will Always Love You - Score: 0.6894090175628662 - Theme: The Enduring Power of Love and Connection\n",
      "=====================\n",
      "Theme: Unconventional love\n",
      "---------------------\n",
      "Lady Gaga: Born This Way - Score: 0.6516531109809875 - Theme: Unconventional love\n",
      "Pharrell Williams: Happy - Score: 0.5974611043930054 - Theme: Finding Joy and Celebration in Life's Moments\n",
      "Coldplay: A Sky Full Of Stars - Score: 0.5889706611633301 - Theme: Unconventional love\n",
      "=====================\n",
      "Theme: Celebrating life's simple joys\n",
      "---------------------\n",
      "Pharrell Williams: Happy - Score: 0.6660861968994141 - Theme: Finding Joy and Celebration in Life's Moments\n",
      "Bob Marley: Three Little Birds - Score: 0.6498468518257141 - Theme: Celebrating life's simple joys\n",
      "Electric Light Orchestra: Mr. Blue Sky - Score: 0.6300190687179565 - Theme: Celebrating life's simple joys\n",
      "=====================\n",
      "Theme: Finding Hope in Unexpected Places\n",
      "---------------------\n",
      "Coldplay: Fix You - Score: 0.6482298374176025 - Theme: Finding Hope in Unexpected Places\n",
      "Bob Marley: Three Little Birds - Score: 0.6417180895805359 - Theme: Celebrating life's simple joys\n",
      "Leonard Cohen: Hallelujah - Score: 0.6377253532409668 - Theme: Finding Hope in Unexpected Places\n",
      "=====================\n",
      "Theme: The Beauty and Pain of Vulnerability\n",
      "---------------------\n",
      "Coldplay: Fix You - Score: 0.6469714641571045 - Theme: Finding Hope in Unexpected Places\n",
      "Adele: Someone Like You - Score: 0.6381570100784302 - Theme: Lost love and longing\n",
      "Taylor Swift: All Too Well - Score: 0.6253518462181091 - Theme: The Beauty and Pain of Vulnerability\n",
      "=====================\n",
      "Theme: The Enduring Power of Love and Connection\n",
      "---------------------\n",
      "Adele: Someone Like You - Score: 0.6339719295501709 - Theme: Lost love and longing\n",
      "Coldplay: Fix You - Score: 0.6274657249450684 - Theme: Finding Hope in Unexpected Places\n",
      "Whitney Houston: I Will Always Love You - Score: 0.6235164403915405 - Theme: The Enduring Power of Love and Connection\n",
      "=====================\n",
      "Theme: Hustle and Ambition\n",
      "---------------------\n",
      "Eminem: Lose Yourself - Score: 0.6575194001197815 - Theme: Overcoming adversity\n",
      "Drake: Headlines - Score: 0.5935319662094116 - Theme: Hustle and Ambition\n",
      "Kanye West: Runaway - Score: 0.5841163992881775 - Theme: Vulnerability and Emotional Honesty\n",
      "=====================\n",
      "Theme: Vulnerability and Emotional Honesty\n",
      "---------------------\n",
      "Eminem: Lose Yourself - Score: 0.6561150550842285 - Theme: Overcoming adversity\n",
      "Coldplay: Fix You - Score: 0.6548541784286499 - Theme: Finding Hope in Unexpected Places\n",
      "Gloria Gaynor: I Will Survive - Score: 0.6501494646072388 - Theme: Overcoming adversity\n",
      "=====================\n",
      "Theme: Finding Joy and Celebration in Life's Moments\n",
      "---------------------\n",
      "Pharrell Williams: Happy - Score: 0.6490783095359802 - Theme: Finding Joy and Celebration in Life's Moments\n",
      "Bob Marley: Three Little Birds - Score: 0.6311366558074951 - Theme: Celebrating life's simple joys\n",
      "Lady Gaga: Born This Way - Score: 0.6114106178283691 - Theme: Unconventional love\n",
      "=====================\n"
     ]
    }
   ],
   "source": [
    "for key, value in themes_prompts_map.items():\n",
    "    print(f\"Theme: {key}\")\n",
    "    print(\"---------------------\")\n",
    "    results = find_songs(value, limit=3, index=indexes[2])\n",
    "    print_results(results)\n",
    "    print(\"=====================\")\n"
   ]
  }
 ],
 "metadata": {
  "kernelspec": {
   "display_name": "venv",
   "language": "python",
   "name": "python3"
  },
  "language_info": {
   "codemirror_mode": {
    "name": "ipython",
    "version": 3
   },
   "file_extension": ".py",
   "mimetype": "text/x-python",
   "name": "python",
   "nbconvert_exporter": "python",
   "pygments_lexer": "ipython3",
   "version": "3.11.1"
  }
 },
 "nbformat": 4,
 "nbformat_minor": 2
}
